{
 "cells": [
  {
   "cell_type": "code",
   "execution_count": 22,
   "metadata": {},
   "outputs": [],
   "source": [
    "from sklearn.tree import DecisionTreeClassifier, export_graphviz\n",
    "import pandas as pd\n",
    "import numpy as np\n",
    "from time import time\n",
    "from sklearn.linear_model import LinearRegression\n",
    "from sklearn.linear_model import SGDRegressor\n",
    "from sklearn.preprocessing import StandardScaler\n",
    "import matplotlib.pyplot as plt\n",
    "\n",
    "from sklearn.model_selection import cross_validate\n",
    "from sklearn.pipeline import Pipeline\n",
    "from sklearn.metrics import roc_auc_score , classification_report, mean_squared_error, r2_score\n",
    "from sklearn.metrics import precision_score, recall_score, accuracy_score, classification_report\n",
    "from sklearn.model_selection import learning_curve, GridSearchCV\n",
    "from sklearn.pipeline import Pipeline\n",
    "from sklearn.feature_selection import *\n",
    "from sklearn import metrics\n",
    "from sklearn.model_selection import train_test_split\n",
    "from numpy.random import seed\n",
    "seed(42)\n",
    "import tensorflow\n",
    "tensorflow.random.set_seed(42)"
   ]
  },
  {
   "cell_type": "code",
   "execution_count": 23,
   "metadata": {},
   "outputs": [],
   "source": [
    "\n",
    "# Let's first load the data and take a look at what we have.\n",
    "df = pd.read_csv('heathrow_final.csv')"
   ]
  },
  {
   "cell_type": "code",
   "execution_count": 24,
   "metadata": {},
   "outputs": [],
   "source": [
    "df=df.dropna()"
   ]
  },
  {
   "cell_type": "code",
   "execution_count": 25,
   "metadata": {},
   "outputs": [],
   "source": [
    "df.drop(['Date'], \n",
    "               axis=1,\n",
    "              inplace=True)\n"
   ]
  },
  {
   "cell_type": "code",
   "execution_count": 26,
   "metadata": {},
   "outputs": [
    {
     "data": {
      "text/html": [
       "<div>\n",
       "<style scoped>\n",
       "    .dataframe tbody tr th:only-of-type {\n",
       "        vertical-align: middle;\n",
       "    }\n",
       "\n",
       "    .dataframe tbody tr th {\n",
       "        vertical-align: top;\n",
       "    }\n",
       "\n",
       "    .dataframe thead th {\n",
       "        text-align: right;\n",
       "    }\n",
       "</style>\n",
       "<table border=\"1\" class=\"dataframe\">\n",
       "  <thead>\n",
       "    <tr style=\"text-align: right;\">\n",
       "      <th></th>\n",
       "      <th>Nox_tropo</th>\n",
       "      <th>Nox_ground</th>\n",
       "      <th>tavg</th>\n",
       "      <th>tmin</th>\n",
       "      <th>tmax</th>\n",
       "      <th>prcp</th>\n",
       "      <th>wdir</th>\n",
       "      <th>wspd</th>\n",
       "      <th>pres</th>\n",
       "      <th>Hum</th>\n",
       "      <th>NO</th>\n",
       "      <th>NO2</th>\n",
       "      <th>PM10</th>\n",
       "    </tr>\n",
       "  </thead>\n",
       "  <tbody>\n",
       "    <tr>\n",
       "      <th>count</th>\n",
       "      <td>578.000000</td>\n",
       "      <td>578.000000</td>\n",
       "      <td>578.000000</td>\n",
       "      <td>578.000000</td>\n",
       "      <td>578.000000</td>\n",
       "      <td>578.000000</td>\n",
       "      <td>578.000000</td>\n",
       "      <td>578.000000</td>\n",
       "      <td>578.000000</td>\n",
       "      <td>578.000000</td>\n",
       "      <td>578.000000</td>\n",
       "      <td>578.000000</td>\n",
       "      <td>578.000000</td>\n",
       "    </tr>\n",
       "    <tr>\n",
       "      <th>mean</th>\n",
       "      <td>154.265069</td>\n",
       "      <td>86.984308</td>\n",
       "      <td>11.978893</td>\n",
       "      <td>8.148270</td>\n",
       "      <td>16.012457</td>\n",
       "      <td>1.808131</td>\n",
       "      <td>3.185121</td>\n",
       "      <td>15.119204</td>\n",
       "      <td>1015.394810</td>\n",
       "      <td>75.041886</td>\n",
       "      <td>31.711471</td>\n",
       "      <td>38.453927</td>\n",
       "      <td>12.221707</td>\n",
       "    </tr>\n",
       "    <tr>\n",
       "      <th>std</th>\n",
       "      <td>84.552148</td>\n",
       "      <td>52.773602</td>\n",
       "      <td>5.629186</td>\n",
       "      <td>5.188065</td>\n",
       "      <td>6.803036</td>\n",
       "      <td>3.718871</td>\n",
       "      <td>0.831770</td>\n",
       "      <td>6.594144</td>\n",
       "      <td>11.305282</td>\n",
       "      <td>11.366531</td>\n",
       "      <td>26.122232</td>\n",
       "      <td>14.991132</td>\n",
       "      <td>7.810452</td>\n",
       "    </tr>\n",
       "    <tr>\n",
       "      <th>min</th>\n",
       "      <td>-85.360000</td>\n",
       "      <td>7.340000</td>\n",
       "      <td>-0.300000</td>\n",
       "      <td>-5.200000</td>\n",
       "      <td>2.100000</td>\n",
       "      <td>0.000000</td>\n",
       "      <td>1.000000</td>\n",
       "      <td>3.500000</td>\n",
       "      <td>977.500000</td>\n",
       "      <td>44.170000</td>\n",
       "      <td>0.910000</td>\n",
       "      <td>4.390000</td>\n",
       "      <td>1.233333</td>\n",
       "    </tr>\n",
       "    <tr>\n",
       "      <th>25%</th>\n",
       "      <td>97.852500</td>\n",
       "      <td>53.702500</td>\n",
       "      <td>7.600000</td>\n",
       "      <td>4.325000</td>\n",
       "      <td>10.525000</td>\n",
       "      <td>0.000000</td>\n",
       "      <td>3.000000</td>\n",
       "      <td>10.100000</td>\n",
       "      <td>1008.725000</td>\n",
       "      <td>66.050000</td>\n",
       "      <td>15.640000</td>\n",
       "      <td>28.680000</td>\n",
       "      <td>7.230208</td>\n",
       "    </tr>\n",
       "    <tr>\n",
       "      <th>50%</th>\n",
       "      <td>135.915000</td>\n",
       "      <td>76.745000</td>\n",
       "      <td>11.000000</td>\n",
       "      <td>7.600000</td>\n",
       "      <td>14.600000</td>\n",
       "      <td>0.000000</td>\n",
       "      <td>3.000000</td>\n",
       "      <td>13.900000</td>\n",
       "      <td>1016.050000</td>\n",
       "      <td>76.730000</td>\n",
       "      <td>26.265000</td>\n",
       "      <td>36.905000</td>\n",
       "      <td>9.820833</td>\n",
       "    </tr>\n",
       "    <tr>\n",
       "      <th>75%</th>\n",
       "      <td>190.065000</td>\n",
       "      <td>107.302500</td>\n",
       "      <td>16.700000</td>\n",
       "      <td>12.250000</td>\n",
       "      <td>21.675000</td>\n",
       "      <td>1.800000</td>\n",
       "      <td>4.000000</td>\n",
       "      <td>18.975000</td>\n",
       "      <td>1022.900000</td>\n",
       "      <td>83.990000</td>\n",
       "      <td>39.452500</td>\n",
       "      <td>47.757500</td>\n",
       "      <td>14.402083</td>\n",
       "    </tr>\n",
       "    <tr>\n",
       "      <th>max</th>\n",
       "      <td>643.550000</td>\n",
       "      <td>373.490000</td>\n",
       "      <td>28.600000</td>\n",
       "      <td>20.000000</td>\n",
       "      <td>37.200000</td>\n",
       "      <td>34.000000</td>\n",
       "      <td>4.000000</td>\n",
       "      <td>39.200000</td>\n",
       "      <td>1047.700000</td>\n",
       "      <td>98.080000</td>\n",
       "      <td>187.440000</td>\n",
       "      <td>98.320000</td>\n",
       "      <td>57.200000</td>\n",
       "    </tr>\n",
       "  </tbody>\n",
       "</table>\n",
       "</div>"
      ],
      "text/plain": [
       "        Nox_tropo  Nox_ground        tavg        tmin        tmax        prcp  \\\n",
       "count  578.000000  578.000000  578.000000  578.000000  578.000000  578.000000   \n",
       "mean   154.265069   86.984308   11.978893    8.148270   16.012457    1.808131   \n",
       "std     84.552148   52.773602    5.629186    5.188065    6.803036    3.718871   \n",
       "min    -85.360000    7.340000   -0.300000   -5.200000    2.100000    0.000000   \n",
       "25%     97.852500   53.702500    7.600000    4.325000   10.525000    0.000000   \n",
       "50%    135.915000   76.745000   11.000000    7.600000   14.600000    0.000000   \n",
       "75%    190.065000  107.302500   16.700000   12.250000   21.675000    1.800000   \n",
       "max    643.550000  373.490000   28.600000   20.000000   37.200000   34.000000   \n",
       "\n",
       "             wdir        wspd         pres         Hum          NO  \\\n",
       "count  578.000000  578.000000   578.000000  578.000000  578.000000   \n",
       "mean     3.185121   15.119204  1015.394810   75.041886   31.711471   \n",
       "std      0.831770    6.594144    11.305282   11.366531   26.122232   \n",
       "min      1.000000    3.500000   977.500000   44.170000    0.910000   \n",
       "25%      3.000000   10.100000  1008.725000   66.050000   15.640000   \n",
       "50%      3.000000   13.900000  1016.050000   76.730000   26.265000   \n",
       "75%      4.000000   18.975000  1022.900000   83.990000   39.452500   \n",
       "max      4.000000   39.200000  1047.700000   98.080000  187.440000   \n",
       "\n",
       "              NO2        PM10  \n",
       "count  578.000000  578.000000  \n",
       "mean    38.453927   12.221707  \n",
       "std     14.991132    7.810452  \n",
       "min      4.390000    1.233333  \n",
       "25%     28.680000    7.230208  \n",
       "50%     36.905000    9.820833  \n",
       "75%     47.757500   14.402083  \n",
       "max     98.320000   57.200000  "
      ]
     },
     "execution_count": 26,
     "metadata": {},
     "output_type": "execute_result"
    }
   ],
   "source": [
    "df.describe()"
   ]
  },
  {
   "cell_type": "code",
   "execution_count": 27,
   "metadata": {},
   "outputs": [],
   "source": [
    "X = df.drop(['Nox_tropo'], axis=1).values\n",
    "y = df['Nox_tropo'].values"
   ]
  },
  {
   "cell_type": "code",
   "execution_count": 28,
   "metadata": {},
   "outputs": [
    {
     "ename": "AttributeError",
     "evalue": "'numpy.ndarray' object has no attribute 'describe'",
     "output_type": "error",
     "traceback": [
      "\u001b[0;31m---------------------------------------------------------------------------\u001b[0m",
      "\u001b[0;31mAttributeError\u001b[0m                            Traceback (most recent call last)",
      "\u001b[0;32m<ipython-input-28-cc1a929cc258>\u001b[0m in \u001b[0;36m<module>\u001b[0;34m\u001b[0m\n\u001b[0;32m----> 1\u001b[0;31m \u001b[0mX\u001b[0m\u001b[0;34m.\u001b[0m\u001b[0mdescribe\u001b[0m\u001b[0;34m(\u001b[0m\u001b[0;34m)\u001b[0m\u001b[0;34m\u001b[0m\u001b[0;34m\u001b[0m\u001b[0m\n\u001b[0m",
      "\u001b[0;31mAttributeError\u001b[0m: 'numpy.ndarray' object has no attribute 'describe'"
     ]
    }
   ],
   "source": [
    "X.describe()"
   ]
  },
  {
   "cell_type": "code",
   "execution_count": 7,
   "metadata": {},
   "outputs": [],
   "source": [
    "from numpy import concatenate\n",
    "from matplotlib import pyplot\n",
    "from pandas import read_csv\n",
    "from pandas import DataFrame\n",
    "from pandas import concat\n",
    "from sklearn.preprocessing import MinMaxScaler\n",
    "from sklearn.preprocessing import LabelEncoder\n",
    "from sklearn.metrics import mean_squared_error\n",
    "from tensorflow.keras.models import Sequential\n",
    "from tensorflow.keras.layers import Dense\n",
    "from tensorflow.keras.layers import LSTM"
   ]
  },
  {
   "cell_type": "code",
   "execution_count": 8,
   "metadata": {},
   "outputs": [],
   "source": [
    "\n",
    " \n",
    "# convert series to supervised learning\n",
    "def series_to_supervised(data, n_in=1, n_out=1, dropnan=True):\n",
    "\tn_vars = 1 if type(data) is list else data.shape[1]\n",
    "\tdf = DataFrame(data)\n",
    "\tcols, names = list(), list()\n",
    "\t# input sequence (t-n, ... t-1)\n",
    "\tfor i in range(n_in, 0, -1):\n",
    "\t\tcols.append(df.shift(i))\n",
    "\t\tnames += [('var%d(t-%d)' % (j+1, i)) for j in range(n_vars)]\n",
    "\t# forecast sequence (t, t+1, ... t+n)\n",
    "\tfor i in range(0, n_out):\n",
    "\t\tcols.append(df.shift(-i))\n",
    "\t\tif i == 0:\n",
    "\t\t\tnames += [('var%d(t)' % (j+1)) for j in range(n_vars)]\n",
    "\t\telse:\n",
    "\t\t\tnames += [('var%d(t+%d)' % (j+1, i)) for j in range(n_vars)]\n",
    "\t# put it all together\n",
    "\tagg = concat(cols, axis=1)\n",
    "\tagg.columns = names\n",
    "\t# drop rows with NaN values\n",
    "\tif dropnan:\n",
    "\t\tagg.dropna(inplace=True)\n",
    "\treturn agg"
   ]
  },
  {
   "cell_type": "code",
   "execution_count": 9,
   "metadata": {},
   "outputs": [],
   "source": [
    "dataset = df\n",
    "values = dataset.values"
   ]
  },
  {
   "cell_type": "code",
   "execution_count": 10,
   "metadata": {},
   "outputs": [
    {
     "name": "stdout",
     "output_type": "stream",
     "text": [
      "(577, 26)\n"
     ]
    }
   ],
   "source": [
    "\n",
    "# normalize features\n",
    "scaler = MinMaxScaler(feature_range=(0, 1))\n",
    "scaled = scaler.fit_transform(values)\n",
    "# specify the number of lag hours\n",
    "n_hours = 1\n",
    "n_features = 13\n",
    "# frame as supervised learning\n",
    "reframed = series_to_supervised(scaled, n_hours, 1)\n",
    "print(reframed.shape)\n",
    "# drop columns we don't want to predict\n",
    "reframed.drop(reframed.columns[[14,15,16,17,18,19,20,21,22,23,24,25]], axis=1, inplace=True)\n",
    "# print(reframed.head())"
   ]
  },
  {
   "cell_type": "code",
   "execution_count": 11,
   "metadata": {},
   "outputs": [
    {
     "data": {
      "text/plain": [
       "Index(['var1(t-1)', 'var2(t-1)', 'var3(t-1)', 'var4(t-1)', 'var5(t-1)',\n",
       "       'var6(t-1)', 'var7(t-1)', 'var8(t-1)', 'var9(t-1)', 'var10(t-1)',\n",
       "       'var11(t-1)', 'var12(t-1)', 'var13(t-1)', 'var1(t)'],\n",
       "      dtype='object')"
      ]
     },
     "execution_count": 11,
     "metadata": {},
     "output_type": "execute_result"
    }
   ],
   "source": [
    "reframed.columns"
   ]
  },
  {
   "cell_type": "code",
   "execution_count": 12,
   "metadata": {},
   "outputs": [
    {
     "data": {
      "text/plain": [
       "577"
      ]
     },
     "execution_count": 12,
     "metadata": {},
     "output_type": "execute_result"
    }
   ],
   "source": [
    "len(reframed)"
   ]
  },
  {
   "cell_type": "code",
   "execution_count": null,
   "metadata": {},
   "outputs": [],
   "source": []
  },
  {
   "cell_type": "code",
   "execution_count": 13,
   "metadata": {},
   "outputs": [
    {
     "name": "stdout",
     "output_type": "stream",
     "text": [
      "(460, 13) 460 (460,)\n",
      "(460, 1, 13) (460,) (117, 1, 13) (117,)\n"
     ]
    }
   ],
   "source": [
    "\n",
    "# split into train and test sets\n",
    "values = reframed.values\n",
    "\n",
    "#80% training data\n",
    "n_train_hours = 460\n",
    "train = values[:n_train_hours]\n",
    "test = values[n_train_hours:]\n",
    "\n",
    "# split into input and outputs\n",
    "n_obs = n_hours * n_features\n",
    "train_X, train_y = train[:, :n_obs], train[:, -n_features]\n",
    "test_X, test_y = test[:, :n_obs], test[:, -n_features]\n",
    "print(train_X.shape, len(train_X), train_y.shape)\n",
    "# reshape input to be 3D [samples, timesteps, features]\n",
    "train_X = train_X.reshape((train_X.shape[0], n_hours, n_features))\n",
    "test_X = test_X.reshape((test_X.shape[0], n_hours, n_features))\n",
    "print(train_X.shape, train_y.shape, test_X.shape, test_y.shape)\n",
    "\n",
    "# train = data.values[:459]\n",
    "# test = data.values[459:]\n",
    "\n",
    "# # Separate input and output\n",
    "# train_X, train_y = train[:, :-1], train[:, -1]\n",
    "# test_X, test_y = test[:, :-1], test[:, -1]\n",
    "\n",
    "# # Reshape input to be 3D [samples, timesteps, features]\n",
    "# train_X = train_X.reshape((train_X.shape[0], 1, train_X.shape[1]))\n",
    "# test_X = test_X.reshape((test_X.shape[0], 1, test_X.shape[1]))\n",
    "\n",
    "# # Print all shapes\n",
    "# train_X.shape, train_y.shape, test_X.shape, test_y.shape"
   ]
  },
  {
   "cell_type": "code",
   "execution_count": 14,
   "metadata": {},
   "outputs": [
    {
     "data": {
      "text/plain": [
       "(460, 13)"
      ]
     },
     "execution_count": 14,
     "metadata": {},
     "output_type": "execute_result"
    }
   ],
   "source": [
    "train_X.shape[0], train_X.shape[2]"
   ]
  },
  {
   "cell_type": "code",
   "execution_count": 20,
   "metadata": {},
   "outputs": [
    {
     "data": {
      "text/plain": [
       "153.33333333333334"
      ]
     },
     "execution_count": 20,
     "metadata": {},
     "output_type": "execute_result"
    }
   ],
   "source": [
    "460/3"
   ]
  },
  {
   "cell_type": "code",
   "execution_count": 15,
   "metadata": {},
   "outputs": [
    {
     "name": "stdout",
     "output_type": "stream",
     "text": [
      "Epoch 1/50\n",
      "20/20 - 2s - loss: 0.0388 - val_loss: 0.0129\n",
      "Epoch 2/50\n",
      "20/20 - 0s - loss: 0.0176 - val_loss: 0.0275\n",
      "Epoch 3/50\n",
      "20/20 - 0s - loss: 0.0146 - val_loss: 0.0195\n",
      "Epoch 4/50\n",
      "20/20 - 0s - loss: 0.0121 - val_loss: 0.0174\n",
      "Epoch 5/50\n",
      "20/20 - 0s - loss: 0.0097 - val_loss: 0.0152\n",
      "Epoch 6/50\n",
      "20/20 - 0s - loss: 0.0075 - val_loss: 0.0127\n",
      "Epoch 7/50\n",
      "20/20 - 0s - loss: 0.0055 - val_loss: 0.0106\n",
      "Epoch 8/50\n",
      "20/20 - 0s - loss: 0.0041 - val_loss: 0.0087\n",
      "Epoch 9/50\n",
      "20/20 - 0s - loss: 0.0030 - val_loss: 0.0069\n",
      "Epoch 10/50\n",
      "20/20 - 0s - loss: 0.0023 - val_loss: 0.0057\n",
      "Epoch 11/50\n",
      "20/20 - 0s - loss: 0.0018 - val_loss: 0.0048\n",
      "Epoch 12/50\n",
      "20/20 - 0s - loss: 0.0015 - val_loss: 0.0041\n",
      "Epoch 13/50\n",
      "20/20 - 0s - loss: 0.0013 - val_loss: 0.0035\n",
      "Epoch 14/50\n",
      "20/20 - 0s - loss: 0.0011 - val_loss: 0.0029\n",
      "Epoch 15/50\n",
      "20/20 - 0s - loss: 0.0010 - val_loss: 0.0025\n",
      "Epoch 16/50\n",
      "20/20 - 0s - loss: 8.8614e-04 - val_loss: 0.0022\n",
      "Epoch 17/50\n",
      "20/20 - 0s - loss: 7.8522e-04 - val_loss: 0.0019\n",
      "Epoch 18/50\n",
      "20/20 - 0s - loss: 6.9653e-04 - val_loss: 0.0017\n",
      "Epoch 19/50\n",
      "20/20 - 0s - loss: 6.1833e-04 - val_loss: 0.0015\n",
      "Epoch 20/50\n",
      "20/20 - 0s - loss: 5.5412e-04 - val_loss: 0.0014\n",
      "Epoch 21/50\n",
      "20/20 - 0s - loss: 5.0157e-04 - val_loss: 0.0013\n",
      "Epoch 22/50\n",
      "20/20 - 0s - loss: 4.5685e-04 - val_loss: 0.0012\n",
      "Epoch 23/50\n",
      "20/20 - 0s - loss: 4.2233e-04 - val_loss: 0.0011\n",
      "Epoch 24/50\n",
      "20/20 - 0s - loss: 3.9515e-04 - val_loss: 0.0010\n",
      "Epoch 25/50\n",
      "20/20 - 0s - loss: 3.7362e-04 - val_loss: 9.6762e-04\n",
      "Epoch 26/50\n",
      "20/20 - 0s - loss: 3.5604e-04 - val_loss: 9.1240e-04\n",
      "Epoch 27/50\n",
      "20/20 - 0s - loss: 3.4198e-04 - val_loss: 8.6677e-04\n",
      "Epoch 28/50\n",
      "20/20 - 0s - loss: 3.2896e-04 - val_loss: 8.2975e-04\n",
      "Epoch 29/50\n",
      "20/20 - 0s - loss: 3.1713e-04 - val_loss: 7.9684e-04\n",
      "Epoch 30/50\n",
      "20/20 - 0s - loss: 3.0627e-04 - val_loss: 7.7163e-04\n",
      "Epoch 31/50\n",
      "20/20 - 0s - loss: 2.9646e-04 - val_loss: 7.5153e-04\n",
      "Epoch 32/50\n",
      "20/20 - 0s - loss: 2.8689e-04 - val_loss: 7.3043e-04\n",
      "Epoch 33/50\n",
      "20/20 - 0s - loss: 2.7897e-04 - val_loss: 7.1462e-04\n",
      "Epoch 34/50\n",
      "20/20 - 0s - loss: 2.7110e-04 - val_loss: 7.0119e-04\n",
      "Epoch 35/50\n",
      "20/20 - 0s - loss: 2.6354e-04 - val_loss: 6.8960e-04\n",
      "Epoch 36/50\n",
      "20/20 - 0s - loss: 2.5709e-04 - val_loss: 6.7778e-04\n",
      "Epoch 37/50\n",
      "20/20 - 0s - loss: 2.5103e-04 - val_loss: 6.7241e-04\n",
      "Epoch 38/50\n",
      "20/20 - 0s - loss: 2.4550e-04 - val_loss: 6.5805e-04\n",
      "Epoch 39/50\n",
      "20/20 - 0s - loss: 2.3988e-04 - val_loss: 6.5752e-04\n",
      "Epoch 40/50\n",
      "20/20 - 0s - loss: 2.3429e-04 - val_loss: 6.4024e-04\n",
      "Epoch 41/50\n",
      "20/20 - 0s - loss: 2.2992e-04 - val_loss: 6.4078e-04\n",
      "Epoch 42/50\n",
      "20/20 - 0s - loss: 2.2428e-04 - val_loss: 6.2627e-04\n",
      "Epoch 43/50\n",
      "20/20 - 0s - loss: 2.2009e-04 - val_loss: 6.2731e-04\n",
      "Epoch 44/50\n",
      "20/20 - 0s - loss: 2.1495e-04 - val_loss: 6.1428e-04\n",
      "Epoch 45/50\n",
      "20/20 - 0s - loss: 2.1103e-04 - val_loss: 6.1791e-04\n",
      "Epoch 46/50\n",
      "20/20 - 0s - loss: 2.0600e-04 - val_loss: 6.0488e-04\n",
      "Epoch 47/50\n",
      "20/20 - 0s - loss: 2.0239e-04 - val_loss: 6.1008e-04\n",
      "Epoch 48/50\n",
      "20/20 - 0s - loss: 1.9781e-04 - val_loss: 5.9820e-04\n",
      "Epoch 49/50\n",
      "20/20 - 0s - loss: 1.9470e-04 - val_loss: 6.0085e-04\n",
      "Epoch 50/50\n",
      "20/20 - 0s - loss: 1.9087e-04 - val_loss: 5.8791e-04\n"
     ]
    },
    {
     "data": {
      "image/png": "[encoded data removed]",
      "text/plain": [
       "<Figure size 432x288 with 1 Axes>"
      ]
     },
     "metadata": {
      "needs_background": "light"
     },
     "output_type": "display_data"
    }
   ],
   "source": [
    "\n",
    "model = Sequential()\n",
    "model = Sequential()\n",
    "model.add(LSTM(13, input_shape=(train_X.shape[1], train_X.shape[2]),activation='relu'))\n",
    "model.add(Dense(38, activation='relu'))\n",
    "model.add(Dense(1))\n",
    "model.compile(loss='mse', optimizer='adam')\n",
    "# fit network\n",
    "history = model.fit(train_X, train_y, epochs=50, batch_size=23, validation_data=(test_X, test_y), verbose=2, shuffle=False)\n",
    "# plot history\n",
    "pyplot.plot(history.history['loss'], label='train')\n",
    "pyplot.plot(history.history['val_loss'], label='test')\n",
    "pyplot.legend()\n",
    "pyplot.show()"
   ]
  },
  {
   "cell_type": "code",
   "execution_count": 16,
   "metadata": {},
   "outputs": [],
   "source": [
    "import math\n",
    "from math import sqrt"
   ]
  },
  {
   "cell_type": "code",
   "execution_count": null,
   "metadata": {},
   "outputs": [],
   "source": []
  },
  {
   "cell_type": "code",
   "execution_count": 21,
   "metadata": {},
   "outputs": [
    {
     "ename": "NameError",
     "evalue": "name 'model' is not defined",
     "output_type": "error",
     "traceback": [
      "\u001b[0;31m---------------------------------------------------------------------------\u001b[0m",
      "\u001b[0;31mNameError\u001b[0m                                 Traceback (most recent call last)",
      "\u001b[0;32m<ipython-input-21-7eb231269b55>\u001b[0m in \u001b[0;36m<module>\u001b[0;34m\u001b[0m\n\u001b[1;32m      1\u001b[0m \u001b[0;31m# make a prediction\u001b[0m\u001b[0;34m\u001b[0m\u001b[0;34m\u001b[0m\u001b[0;34m\u001b[0m\u001b[0m\n\u001b[0;32m----> 2\u001b[0;31m \u001b[0myhat\u001b[0m \u001b[0;34m=\u001b[0m \u001b[0mmodel\u001b[0m\u001b[0;34m.\u001b[0m\u001b[0mpredict\u001b[0m\u001b[0;34m(\u001b[0m\u001b[0mtest_X\u001b[0m\u001b[0;34m)\u001b[0m\u001b[0;34m\u001b[0m\u001b[0;34m\u001b[0m\u001b[0m\n\u001b[0m\u001b[1;32m      3\u001b[0m \u001b[0mtest_X\u001b[0m \u001b[0;34m=\u001b[0m \u001b[0mtest_X\u001b[0m\u001b[0;34m.\u001b[0m\u001b[0mreshape\u001b[0m\u001b[0;34m(\u001b[0m\u001b[0;34m(\u001b[0m\u001b[0mtest_X\u001b[0m\u001b[0;34m.\u001b[0m\u001b[0mshape\u001b[0m\u001b[0;34m[\u001b[0m\u001b[0;36m0\u001b[0m\u001b[0;34m]\u001b[0m\u001b[0;34m,\u001b[0m \u001b[0mn_hours\u001b[0m\u001b[0;34m*\u001b[0m\u001b[0mn_features\u001b[0m\u001b[0;34m)\u001b[0m\u001b[0;34m)\u001b[0m\u001b[0;34m\u001b[0m\u001b[0;34m\u001b[0m\u001b[0m\n\u001b[1;32m      4\u001b[0m \u001b[0;31m# invert scaling for forecast\u001b[0m\u001b[0;34m\u001b[0m\u001b[0;34m\u001b[0m\u001b[0;34m\u001b[0m\u001b[0m\n\u001b[1;32m      5\u001b[0m \u001b[0minv_yhat\u001b[0m \u001b[0;34m=\u001b[0m \u001b[0mconcatenate\u001b[0m\u001b[0;34m(\u001b[0m\u001b[0;34m(\u001b[0m\u001b[0myhat\u001b[0m\u001b[0;34m,\u001b[0m \u001b[0mtest_X\u001b[0m\u001b[0;34m[\u001b[0m\u001b[0;34m:\u001b[0m\u001b[0;34m,\u001b[0m \u001b[0;34m-\u001b[0m\u001b[0;36m12\u001b[0m\u001b[0;34m:\u001b[0m\u001b[0;34m]\u001b[0m\u001b[0;34m)\u001b[0m\u001b[0;34m,\u001b[0m \u001b[0maxis\u001b[0m\u001b[0;34m=\u001b[0m\u001b[0;36m1\u001b[0m\u001b[0;34m)\u001b[0m\u001b[0;34m\u001b[0m\u001b[0;34m\u001b[0m\u001b[0m\n",
      "\u001b[0;31mNameError\u001b[0m: name 'model' is not defined"
     ]
    }
   ],
   "source": [
    "# make a prediction\n",
    "yhat = model.predict(test_X)\n",
    "test_X = test_X.reshape((test_X.shape[0], n_hours*n_features))\n",
    "# invert scaling for forecast\n",
    "inv_yhat = concatenate((yhat, test_X[:, -12:]), axis=1)\n",
    "inv_yhat = scaler.inverse_transform(inv_yhat)\n",
    "inv_yhat = inv_yhat[:,0]\n",
    "# invert scaling for actual\n",
    "test_y = test_y.reshape((len(test_y), 1))\n",
    "inv_y = concatenate((test_y, test_X[:, -12:]), axis=1)\n",
    "inv_y = scaler.inverse_transform(inv_y)\n",
    "inv_y = inv_y[:,0]\n",
    "# calculate RMSE\n",
    "rmse = sqrt(mean_squared_error(inv_y, inv_yhat))\n",
    "print('Test RMSE: %.3f' % rmse)"
   ]
  },
  {
   "cell_type": "code",
   "execution_count": 21,
   "metadata": {},
   "outputs": [
    {
     "data": {
      "image/png": "[encoded data removed]",
      "text/plain": [
       "<Figure size 432x288 with 1 Axes>"
      ]
     },
     "metadata": {
      "needs_background": "light"
     },
     "output_type": "display_data"
    }
   ],
   "source": [
    "plt.plot(inv_y, color = 'red', label = 'Real data')\n",
    "plt.plot(inv_yhat, color = 'blue', label = 'Predicted data')\n",
    "plt.title('Prediction')\n",
    "plt.legend()\n",
    "plt.show()"
   ]
  },
  {
   "cell_type": "raw",
   "metadata": {},
   "source": [
    "Test RMSE: 28.791 batch 24\n",
    "\n",
    "batch 3 Test RMSE: Test RMSE: 10.093\n",
    "\n",
    "Test 7 RMSE: Test RMSE: 16.275\n",
    "Test 15  RMSE: 17.951\n",
    " 24 Test RMSE: 18.639\n",
    " 23 Test RMSE: 17.674\n"
   ]
  },
  {
   "cell_type": "markdown",
   "metadata": {},
   "source": [
    "<!-- 61-1 Test RMSE: Test RMSE: 63.163\n",
    "\n",
    "13-40-1 Test RMSE: 67.366\n",
    "\n",
    "13-100-1 Test RMSE: 65.965\n",
    "\n",
    "13- -->"
   ]
  }
 ],
 "metadata": {
  "kernelspec": {
   "display_name": "Python 3",
   "language": "python",
   "name": "python3"
  },
  "language_info": {
   "codemirror_mode": {
    "name": "ipython",
    "version": 3
   },
   "file_extension": ".py",
   "mimetype": "text/x-python",
   "name": "python",
   "nbconvert_exporter": "python",
   "pygments_lexer": "ipython3",
   "version": "3.7.6"
  }
 },
 "nbformat": 4,
 "nbformat_minor": 2
}
