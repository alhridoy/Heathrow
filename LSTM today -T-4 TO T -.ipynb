{
 "cells": [
  {
   "cell_type": "code",
   "execution_count": 18,
   "metadata": {},
   "outputs": [],
   "source": [
    "from sklearn.tree import DecisionTreeClassifier, export_graphviz\n",
    "import pandas as pd\n",
    "import numpy as np\n",
    "from time import time\n",
    "from sklearn.linear_model import LinearRegression\n",
    "from sklearn.linear_model import SGDRegressor\n",
    "from sklearn.preprocessing import StandardScaler\n",
    "import matplotlib.pyplot as plt\n",
    "\n",
    "from sklearn.model_selection import cross_validate\n",
    "from sklearn.pipeline import Pipeline\n",
    "from sklearn.metrics import roc_auc_score , classification_report, mean_squared_error, r2_score\n",
    "from sklearn.metrics import precision_score, recall_score, accuracy_score, classification_report\n",
    "from sklearn.model_selection import learning_curve, GridSearchCV\n",
    "from sklearn.pipeline import Pipeline\n",
    "from sklearn.feature_selection import *\n",
    "from sklearn import metrics\n",
    "from sklearn.model_selection import train_test_split\n",
    "from numpy.random import seed\n",
    "seed(42)\n",
    "import tensorflow\n",
    "tensorflow.random.set_seed(42)"
   ]
  },
  {
   "cell_type": "code",
   "execution_count": 19,
   "metadata": {},
   "outputs": [],
   "source": [
    "\n",
    "# Let's first load the data and take a look at what we have.\n",
    "df = pd.read_csv('heathrow_final.csv')"
   ]
  },
  {
   "cell_type": "code",
   "execution_count": 20,
   "metadata": {},
   "outputs": [],
   "source": [
    "df=df.dropna()"
   ]
  },
  {
   "cell_type": "code",
   "execution_count": 21,
   "metadata": {},
   "outputs": [],
   "source": [
    "df.drop(['Date'], \n",
    "               axis=1,\n",
    "              inplace=True)\n"
   ]
  },
  {
   "cell_type": "code",
   "execution_count": 23,
   "metadata": {},
   "outputs": [
    {
     "data": {
      "text/html": [
       "<div>\n",
       "<style scoped>\n",
       "    .dataframe tbody tr th:only-of-type {\n",
       "        vertical-align: middle;\n",
       "    }\n",
       "\n",
       "    .dataframe tbody tr th {\n",
       "        vertical-align: top;\n",
       "    }\n",
       "\n",
       "    .dataframe thead th {\n",
       "        text-align: right;\n",
       "    }\n",
       "</style>\n",
       "<table border=\"1\" class=\"dataframe\">\n",
       "  <thead>\n",
       "    <tr style=\"text-align: right;\">\n",
       "      <th></th>\n",
       "      <th>Nox_tropo</th>\n",
       "      <th>Nox_ground</th>\n",
       "      <th>tavg</th>\n",
       "      <th>tmin</th>\n",
       "      <th>tmax</th>\n",
       "      <th>prcp</th>\n",
       "      <th>wdir</th>\n",
       "      <th>wspd</th>\n",
       "      <th>pres</th>\n",
       "      <th>Hum</th>\n",
       "      <th>NO</th>\n",
       "      <th>NO2</th>\n",
       "      <th>PM10</th>\n",
       "    </tr>\n",
       "  </thead>\n",
       "  <tbody>\n",
       "    <tr>\n",
       "      <th>count</th>\n",
       "      <td>577.000000</td>\n",
       "      <td>577.000000</td>\n",
       "      <td>577.000000</td>\n",
       "      <td>577.000000</td>\n",
       "      <td>577.000000</td>\n",
       "      <td>577.000000</td>\n",
       "      <td>577.000000</td>\n",
       "      <td>577.000000</td>\n",
       "      <td>577.000000</td>\n",
       "      <td>577.000000</td>\n",
       "      <td>577.000000</td>\n",
       "      <td>577.000000</td>\n",
       "      <td>577.000000</td>\n",
       "    </tr>\n",
       "    <tr>\n",
       "      <th>mean</th>\n",
       "      <td>154.680364</td>\n",
       "      <td>87.066482</td>\n",
       "      <td>11.984229</td>\n",
       "      <td>8.150780</td>\n",
       "      <td>16.022357</td>\n",
       "      <td>1.811265</td>\n",
       "      <td>3.183709</td>\n",
       "      <td>15.112652</td>\n",
       "      <td>1015.381282</td>\n",
       "      <td>75.034731</td>\n",
       "      <td>31.754870</td>\n",
       "      <td>38.469723</td>\n",
       "      <td>12.233464</td>\n",
       "    </tr>\n",
       "    <tr>\n",
       "      <th>std</th>\n",
       "      <td>84.033426</td>\n",
       "      <td>52.782369</td>\n",
       "      <td>5.632607</td>\n",
       "      <td>5.192215</td>\n",
       "      <td>6.804770</td>\n",
       "      <td>3.721334</td>\n",
       "      <td>0.831797</td>\n",
       "      <td>6.597982</td>\n",
       "      <td>11.310409</td>\n",
       "      <td>11.375091</td>\n",
       "      <td>26.124033</td>\n",
       "      <td>14.999325</td>\n",
       "      <td>7.812107</td>\n",
       "    </tr>\n",
       "    <tr>\n",
       "      <th>min</th>\n",
       "      <td>2.940000</td>\n",
       "      <td>7.340000</td>\n",
       "      <td>-0.300000</td>\n",
       "      <td>-5.200000</td>\n",
       "      <td>2.100000</td>\n",
       "      <td>0.000000</td>\n",
       "      <td>1.000000</td>\n",
       "      <td>3.500000</td>\n",
       "      <td>977.500000</td>\n",
       "      <td>44.170000</td>\n",
       "      <td>0.910000</td>\n",
       "      <td>4.390000</td>\n",
       "      <td>1.233333</td>\n",
       "    </tr>\n",
       "    <tr>\n",
       "      <th>25%</th>\n",
       "      <td>97.950000</td>\n",
       "      <td>53.770000</td>\n",
       "      <td>7.600000</td>\n",
       "      <td>4.300000</td>\n",
       "      <td>10.600000</td>\n",
       "      <td>0.000000</td>\n",
       "      <td>3.000000</td>\n",
       "      <td>10.100000</td>\n",
       "      <td>1008.700000</td>\n",
       "      <td>66.040000</td>\n",
       "      <td>15.670000</td>\n",
       "      <td>28.660000</td>\n",
       "      <td>7.233333</td>\n",
       "    </tr>\n",
       "    <tr>\n",
       "      <th>50%</th>\n",
       "      <td>136.240000</td>\n",
       "      <td>76.800000</td>\n",
       "      <td>11.000000</td>\n",
       "      <td>7.600000</td>\n",
       "      <td>14.600000</td>\n",
       "      <td>0.000000</td>\n",
       "      <td>3.000000</td>\n",
       "      <td>13.900000</td>\n",
       "      <td>1016.000000</td>\n",
       "      <td>76.670000</td>\n",
       "      <td>26.280000</td>\n",
       "      <td>36.910000</td>\n",
       "      <td>9.820833</td>\n",
       "    </tr>\n",
       "    <tr>\n",
       "      <th>75%</th>\n",
       "      <td>190.090000</td>\n",
       "      <td>107.330000</td>\n",
       "      <td>16.700000</td>\n",
       "      <td>12.300000</td>\n",
       "      <td>21.700000</td>\n",
       "      <td>1.800000</td>\n",
       "      <td>4.000000</td>\n",
       "      <td>19.000000</td>\n",
       "      <td>1022.900000</td>\n",
       "      <td>84.000000</td>\n",
       "      <td>39.530000</td>\n",
       "      <td>47.760000</td>\n",
       "      <td>14.404167</td>\n",
       "    </tr>\n",
       "    <tr>\n",
       "      <th>max</th>\n",
       "      <td>643.550000</td>\n",
       "      <td>373.490000</td>\n",
       "      <td>28.600000</td>\n",
       "      <td>20.000000</td>\n",
       "      <td>37.200000</td>\n",
       "      <td>34.000000</td>\n",
       "      <td>4.000000</td>\n",
       "      <td>39.200000</td>\n",
       "      <td>1047.700000</td>\n",
       "      <td>98.080000</td>\n",
       "      <td>187.440000</td>\n",
       "      <td>98.320000</td>\n",
       "      <td>57.200000</td>\n",
       "    </tr>\n",
       "  </tbody>\n",
       "</table>\n",
       "</div>"
      ],
      "text/plain": [
       "        Nox_tropo  Nox_ground        tavg        tmin        tmax        prcp  \\\n",
       "count  577.000000  577.000000  577.000000  577.000000  577.000000  577.000000   \n",
       "mean   154.680364   87.066482   11.984229    8.150780   16.022357    1.811265   \n",
       "std     84.033426   52.782369    5.632607    5.192215    6.804770    3.721334   \n",
       "min      2.940000    7.340000   -0.300000   -5.200000    2.100000    0.000000   \n",
       "25%     97.950000   53.770000    7.600000    4.300000   10.600000    0.000000   \n",
       "50%    136.240000   76.800000   11.000000    7.600000   14.600000    0.000000   \n",
       "75%    190.090000  107.330000   16.700000   12.300000   21.700000    1.800000   \n",
       "max    643.550000  373.490000   28.600000   20.000000   37.200000   34.000000   \n",
       "\n",
       "             wdir        wspd         pres         Hum          NO  \\\n",
       "count  577.000000  577.000000   577.000000  577.000000  577.000000   \n",
       "mean     3.183709   15.112652  1015.381282   75.034731   31.754870   \n",
       "std      0.831797    6.597982    11.310409   11.375091   26.124033   \n",
       "min      1.000000    3.500000   977.500000   44.170000    0.910000   \n",
       "25%      3.000000   10.100000  1008.700000   66.040000   15.670000   \n",
       "50%      3.000000   13.900000  1016.000000   76.670000   26.280000   \n",
       "75%      4.000000   19.000000  1022.900000   84.000000   39.530000   \n",
       "max      4.000000   39.200000  1047.700000   98.080000  187.440000   \n",
       "\n",
       "              NO2        PM10  \n",
       "count  577.000000  577.000000  \n",
       "mean    38.469723   12.233464  \n",
       "std     14.999325    7.812107  \n",
       "min      4.390000    1.233333  \n",
       "25%     28.660000    7.233333  \n",
       "50%     36.910000    9.820833  \n",
       "75%     47.760000   14.404167  \n",
       "max     98.320000   57.200000  "
      ]
     },
     "execution_count": 23,
     "metadata": {},
     "output_type": "execute_result"
    }
   ],
   "source": [
    "df.describe()"
   ]
  },
  {
   "cell_type": "code",
   "execution_count": 24,
   "metadata": {},
   "outputs": [],
   "source": [
    "X = df.drop(['Nox_tropo'], axis=1).values\n",
    "y = df['Nox_tropo'].values"
   ]
  },
  {
   "cell_type": "code",
   "execution_count": 25,
   "metadata": {},
   "outputs": [],
   "source": [
    "from numpy import concatenate\n",
    "from matplotlib import pyplot\n",
    "from pandas import read_csv\n",
    "from pandas import DataFrame\n",
    "from pandas import concat\n",
    "from sklearn.preprocessing import MinMaxScaler\n",
    "from sklearn.preprocessing import LabelEncoder\n",
    "from sklearn.metrics import mean_squared_error\n",
    "from tensorflow.keras.models import Sequential\n",
    "from tensorflow.keras.layers import Dense\n",
    "from tensorflow.keras.layers import LSTM"
   ]
  },
  {
   "cell_type": "code",
   "execution_count": 26,
   "metadata": {},
   "outputs": [],
   "source": [
    "\n",
    " \n",
    "# convert series to supervised learning\n",
    "def series_to_supervised(data, n_in=1, n_out=1, dropnan=True):\n",
    "\tn_vars = 1 if type(data) is list else data.shape[1]\n",
    "\tdf = DataFrame(data)\n",
    "\tcols, names = list(), list()\n",
    "\t# input sequence (t-n, ... t-1)\n",
    "\tfor i in range(n_in, 0, -1):\n",
    "\t\tcols.append(df.shift(i))\n",
    "\t\tnames += [('var%d(t-%d)' % (j+1, i)) for j in range(n_vars)]\n",
    "\t# forecast sequence (t, t+1, ... t+n)\n",
    "\tfor i in range(0, n_out):\n",
    "\t\tcols.append(df.shift(-i))\n",
    "\t\tif i == 0:\n",
    "\t\t\tnames += [('var%d(t)' % (j+1)) for j in range(n_vars)]\n",
    "\t\telse:\n",
    "\t\t\tnames += [('var%d(t+%d)' % (j+1, i)) for j in range(n_vars)]\n",
    "\t# put it all together\n",
    "\tagg = concat(cols, axis=1)\n",
    "\tagg.columns = names\n",
    "\t# drop rows with NaN values\n",
    "\tif dropnan:\n",
    "\t\tagg.dropna(inplace=True)\n",
    "\treturn agg"
   ]
  },
  {
   "cell_type": "code",
   "execution_count": 27,
   "metadata": {},
   "outputs": [],
   "source": [
    "dataset = df\n",
    "values = dataset.values"
   ]
  },
  {
   "cell_type": "code",
   "execution_count": 28,
   "metadata": {},
   "outputs": [
    {
     "name": "stdout",
     "output_type": "stream",
     "text": [
      "(573, 65)\n"
     ]
    }
   ],
   "source": [
    "\n",
    "# normalize features\n",
    "scaler = MinMaxScaler(feature_range=(0, 1))\n",
    "scaled = scaler.fit_transform(values)\n",
    "# specify the number of lag hours\n",
    "n_hours = 4\n",
    "n_features = 13\n",
    "# frame as supervised learning\n",
    "reframed = series_to_supervised(scaled, n_hours, 1)\n",
    "print(reframed.shape)\n",
    "# drop columns we don't want to predict\n",
    "reframed.drop(reframed.columns[[-1,-2,-3,-4,-5,-6,-7,-8,-9,-10,-11,-12,]], axis=1, inplace=True)\n",
    "# print(reframed.head())"
   ]
  },
  {
   "cell_type": "code",
   "execution_count": 29,
   "metadata": {},
   "outputs": [
    {
     "data": {
      "text/plain": [
       "Index(['var1(t-4)', 'var2(t-4)', 'var3(t-4)', 'var4(t-4)', 'var5(t-4)',\n",
       "       'var6(t-4)', 'var7(t-4)', 'var8(t-4)', 'var9(t-4)', 'var10(t-4)',\n",
       "       'var11(t-4)', 'var12(t-4)', 'var13(t-4)', 'var1(t-3)', 'var2(t-3)',\n",
       "       'var3(t-3)', 'var4(t-3)', 'var5(t-3)', 'var6(t-3)', 'var7(t-3)',\n",
       "       'var8(t-3)', 'var9(t-3)', 'var10(t-3)', 'var11(t-3)', 'var12(t-3)',\n",
       "       'var13(t-3)', 'var1(t-2)', 'var2(t-2)', 'var3(t-2)', 'var4(t-2)',\n",
       "       'var5(t-2)', 'var6(t-2)', 'var7(t-2)', 'var8(t-2)', 'var9(t-2)',\n",
       "       'var10(t-2)', 'var11(t-2)', 'var12(t-2)', 'var13(t-2)', 'var1(t-1)',\n",
       "       'var2(t-1)', 'var3(t-1)', 'var4(t-1)', 'var5(t-1)', 'var6(t-1)',\n",
       "       'var7(t-1)', 'var8(t-1)', 'var9(t-1)', 'var10(t-1)', 'var11(t-1)',\n",
       "       'var12(t-1)', 'var13(t-1)', 'var1(t)'],\n",
       "      dtype='object')"
      ]
     },
     "execution_count": 29,
     "metadata": {},
     "output_type": "execute_result"
    }
   ],
   "source": [
    "reframed.columns"
   ]
  },
  {
   "cell_type": "code",
   "execution_count": 30,
   "metadata": {},
   "outputs": [
    {
     "data": {
      "text/plain": [
       "573"
      ]
     },
     "execution_count": 30,
     "metadata": {},
     "output_type": "execute_result"
    }
   ],
   "source": [
    "len(reframed)"
   ]
  },
  {
   "cell_type": "code",
   "execution_count": 31,
   "metadata": {},
   "outputs": [
    {
     "data": {
      "text/plain": [
       "458.40000000000003"
      ]
     },
     "execution_count": 31,
     "metadata": {},
     "output_type": "execute_result"
    }
   ],
   "source": [
    "573*0.8"
   ]
  },
  {
   "cell_type": "code",
   "execution_count": 32,
   "metadata": {},
   "outputs": [
    {
     "name": "stdout",
     "output_type": "stream",
     "text": [
      "(458, 52) 458 (458,)\n",
      "(458, 4, 13) (458,) (115, 4, 13) (115,)\n"
     ]
    }
   ],
   "source": [
    "\n",
    "# split into train and test sets\n",
    "values = reframed.values\n",
    "\n",
    "#80% training data\n",
    "n_train_hours = 458\n",
    "train = values[:n_train_hours]\n",
    "test = values[n_train_hours:]\n",
    "\n",
    "# split into input and outputs\n",
    "n_obs = n_hours * n_features\n",
    "train_X, train_y = train[:, :n_obs], train[:, -n_features]\n",
    "test_X, test_y = test[:, :n_obs], test[:, -n_features]\n",
    "print(train_X.shape, len(train_X), train_y.shape)\n",
    "# reshape input to be 3D [samples, timesteps, features]\n",
    "train_X = train_X.reshape((train_X.shape[0], n_hours, n_features))\n",
    "test_X = test_X.reshape((test_X.shape[0], n_hours, n_features))\n",
    "print(train_X.shape, train_y.shape, test_X.shape, test_y.shape)\n",
    "\n",
    "# train = data.values[:459]\n",
    "# test = data.values[459:]\n",
    "\n",
    "# # Separate input and output\n",
    "# train_X, train_y = train[:, :-1], train[:, -1]\n",
    "# test_X, test_y = test[:, :-1], test[:, -1]\n",
    "\n",
    "# # Reshape input to be 3D [samples, timesteps, features]\n",
    "# train_X = train_X.reshape((train_X.shape[0], 1, train_X.shape[1]))\n",
    "# test_X = test_X.reshape((test_X.shape[0], 1, test_X.shape[1]))\n",
    "\n",
    "# # Print all shapes\n",
    "# train_X.shape, train_y.shape, test_X.shape, test_y.shape"
   ]
  },
  {
   "cell_type": "code",
   "execution_count": 14,
   "metadata": {},
   "outputs": [
    {
     "data": {
      "text/plain": [
       "(461, 13)"
      ]
     },
     "execution_count": 14,
     "metadata": {},
     "output_type": "execute_result"
    }
   ],
   "source": [
    "train_X.shape[0], train_X.shape[2]"
   ]
  },
  {
   "cell_type": "code",
   "execution_count": 33,
   "metadata": {},
   "outputs": [
    {
     "name": "stdout",
     "output_type": "stream",
     "text": [
      "Epoch 1/50\n",
      "153/153 - 3s - loss: 0.0141 - val_loss: 0.0216\n",
      "Epoch 2/50\n",
      "153/153 - 2s - loss: 0.0103 - val_loss: 0.0154\n",
      "Epoch 3/50\n",
      "153/153 - 0s - loss: 0.0080 - val_loss: 0.0102\n",
      "Epoch 4/50\n",
      "153/153 - 0s - loss: 0.0057 - val_loss: 0.0063\n",
      "Epoch 5/50\n",
      "153/153 - 0s - loss: 0.0035 - val_loss: 0.0044\n",
      "Epoch 6/50\n",
      "153/153 - 1s - loss: 0.0021 - val_loss: 0.0043\n",
      "Epoch 7/50\n",
      "153/153 - 0s - loss: 0.0016 - val_loss: 0.0037\n",
      "Epoch 8/50\n",
      "153/153 - 1s - loss: 0.0012 - val_loss: 0.0030\n",
      "Epoch 9/50\n",
      "153/153 - 0s - loss: 9.7268e-04 - val_loss: 0.0026\n",
      "Epoch 10/50\n",
      "153/153 - 0s - loss: 7.9766e-04 - val_loss: 0.0023\n",
      "Epoch 11/50\n",
      "153/153 - 0s - loss: 6.8622e-04 - val_loss: 0.0020\n",
      "Epoch 12/50\n",
      "153/153 - 0s - loss: 5.8041e-04 - val_loss: 0.0018\n",
      "Epoch 13/50\n",
      "153/153 - 0s - loss: 4.9552e-04 - val_loss: 0.0017\n",
      "Epoch 14/50\n",
      "153/153 - 0s - loss: 4.2746e-04 - val_loss: 0.0015\n",
      "Epoch 15/50\n",
      "153/153 - 0s - loss: 3.7817e-04 - val_loss: 0.0012\n",
      "Epoch 16/50\n",
      "153/153 - 1s - loss: 3.4022e-04 - val_loss: 0.0012\n",
      "Epoch 17/50\n",
      "153/153 - 0s - loss: 3.1418e-04 - val_loss: 0.0011\n",
      "Epoch 18/50\n",
      "153/153 - 0s - loss: 2.9504e-04 - val_loss: 0.0011\n",
      "Epoch 19/50\n",
      "153/153 - 1s - loss: 2.7534e-04 - val_loss: 0.0010\n",
      "Epoch 20/50\n",
      "153/153 - 1s - loss: 2.6283e-04 - val_loss: 9.9078e-04\n",
      "Epoch 21/50\n",
      "153/153 - 0s - loss: 2.4845e-04 - val_loss: 9.9755e-04\n",
      "Epoch 22/50\n",
      "153/153 - 0s - loss: 2.4207e-04 - val_loss: 0.0010\n",
      "Epoch 23/50\n",
      "153/153 - 1s - loss: 2.3438e-04 - val_loss: 0.0010\n",
      "Epoch 24/50\n",
      "153/153 - 0s - loss: 2.2490e-04 - val_loss: 9.7685e-04\n",
      "Epoch 25/50\n",
      "153/153 - 1s - loss: 2.2385e-04 - val_loss: 0.0012\n",
      "Epoch 26/50\n",
      "153/153 - 0s - loss: 2.0980e-04 - val_loss: 9.4476e-04\n",
      "Epoch 27/50\n",
      "153/153 - 0s - loss: 1.9643e-04 - val_loss: 9.1202e-04\n",
      "Epoch 28/50\n",
      "153/153 - 0s - loss: 1.8787e-04 - val_loss: 9.5054e-04\n",
      "Epoch 29/50\n",
      "153/153 - 0s - loss: 1.7788e-04 - val_loss: 8.4958e-04\n",
      "Epoch 30/50\n",
      "153/153 - 0s - loss: 1.7101e-04 - val_loss: 8.0282e-04\n",
      "Epoch 31/50\n",
      "153/153 - 0s - loss: 1.6204e-04 - val_loss: 7.8111e-04\n",
      "Epoch 32/50\n",
      "153/153 - 0s - loss: 1.5485e-04 - val_loss: 7.5831e-04\n",
      "Epoch 33/50\n",
      "153/153 - 0s - loss: 1.4769e-04 - val_loss: 7.0654e-04\n",
      "Epoch 34/50\n",
      "153/153 - 0s - loss: 1.3826e-04 - val_loss: 6.4095e-04\n",
      "Epoch 35/50\n",
      "153/153 - 0s - loss: 1.3248e-04 - val_loss: 5.6996e-04\n",
      "Epoch 36/50\n",
      "153/153 - 1s - loss: 1.3089e-04 - val_loss: 5.2416e-04\n",
      "Epoch 37/50\n",
      "153/153 - 0s - loss: 1.3825e-04 - val_loss: 4.6590e-04\n",
      "Epoch 38/50\n",
      "153/153 - 0s - loss: 1.2690e-04 - val_loss: 4.2680e-04\n",
      "Epoch 39/50\n",
      "153/153 - 0s - loss: 1.1396e-04 - val_loss: 4.2535e-04\n",
      "Epoch 40/50\n",
      "153/153 - 1s - loss: 1.0504e-04 - val_loss: 3.8887e-04\n",
      "Epoch 41/50\n",
      "153/153 - 0s - loss: 9.9089e-05 - val_loss: 3.6302e-04\n",
      "Epoch 42/50\n",
      "153/153 - 0s - loss: 9.4055e-05 - val_loss: 3.2005e-04\n",
      "Epoch 43/50\n",
      "153/153 - 0s - loss: 9.4274e-05 - val_loss: 2.9170e-04\n",
      "Epoch 44/50\n",
      "153/153 - 0s - loss: 9.1818e-05 - val_loss: 2.6261e-04\n",
      "Epoch 45/50\n",
      "153/153 - 0s - loss: 8.7848e-05 - val_loss: 2.4440e-04\n",
      "Epoch 46/50\n",
      "153/153 - 0s - loss: 7.7630e-05 - val_loss: 2.8635e-04\n",
      "Epoch 47/50\n",
      "153/153 - 0s - loss: 7.2965e-05 - val_loss: 2.2383e-04\n",
      "Epoch 48/50\n",
      "153/153 - 0s - loss: 7.0977e-05 - val_loss: 2.3219e-04\n",
      "Epoch 49/50\n",
      "153/153 - 0s - loss: 6.6656e-05 - val_loss: 2.1698e-04\n",
      "Epoch 50/50\n",
      "153/153 - 0s - loss: 6.9182e-05 - val_loss: 1.8239e-04\n"
     ]
    },
    {
     "data": {
      "image/png": "[encoded data removed]",
      "text/plain": [
       "<Figure size 432x288 with 1 Axes>"
      ]
     },
     "metadata": {
      "needs_background": "light"
     },
     "output_type": "display_data"
    }
   ],
   "source": [
    "\n",
    "model = Sequential()\n",
    "model = Sequential()\n",
    "model.add(LSTM(13, input_shape=(train_X.shape[1], train_X.shape[2]),activation='relu'))\n",
    "model.add(Dense(38, activation='relu'))\n",
    "model.add(Dense(1))\n",
    "model.compile(loss='mse', optimizer='adam')\n",
    "# fit network\n",
    "history = model.fit(train_X, train_y, epochs=50, batch_size=3, validation_data=(test_X, test_y), verbose=2, shuffle=False)\n",
    "# plot history\n",
    "pyplot.plot(history.history['loss'], label='train')\n",
    "pyplot.plot(history.history['val_loss'], label='test')\n",
    "pyplot.legend()\n",
    "pyplot.show()"
   ]
  },
  {
   "cell_type": "code",
   "execution_count": 34,
   "metadata": {},
   "outputs": [],
   "source": [
    "import math\n",
    "from math import sqrt"
   ]
  },
  {
   "cell_type": "code",
   "execution_count": null,
   "metadata": {},
   "outputs": [],
   "source": [
    "# yhat = model.predict(test_X)"
   ]
  },
  {
   "cell_type": "code",
   "execution_count": 35,
   "metadata": {},
   "outputs": [
    {
     "name": "stdout",
     "output_type": "stream",
     "text": [
      "Test RMSE: 8.652\n"
     ]
    }
   ],
   "source": [
    "# make a prediction\n",
    "yhat = model.predict(test_X)\n",
    "test_X = test_X.reshape((test_X.shape[0], n_hours*n_features))\n",
    "# invert scaling for forecast\n",
    "inv_yhat = concatenate((yhat, test_X[:, -12:]), axis=1)\n",
    "inv_yhat = scaler.inverse_transform(inv_yhat)\n",
    "inv_yhat = inv_yhat[:,0]\n",
    "# invert scaling for actual\n",
    "test_y = test_y.reshape((len(test_y), 1))\n",
    "inv_y = concatenate((test_y, test_X[:, -12:]), axis=1)\n",
    "inv_y = scaler.inverse_transform(inv_y)\n",
    "inv_y = inv_y[:,0]\n",
    "# calculate RMSE\n",
    "rmse = sqrt(mean_squared_error(inv_y, inv_yhat))\n",
    "print('Test RMSE: %.3f' % rmse)"
   ]
  },
  {
   "cell_type": "code",
   "execution_count": null,
   "metadata": {},
   "outputs": [],
   "source": [
    "# inv_yhat = inv_yhat"
   ]
  },
  {
   "cell_type": "code",
   "execution_count": 36,
   "metadata": {},
   "outputs": [
    {
     "data": {
      "image/png": "[encoded data removed]",
      "text/plain": [
       "<Figure size 432x288 with 1 Axes>"
      ]
     },
     "metadata": {
      "needs_background": "light"
     },
     "output_type": "display_data"
    }
   ],
   "source": [
    "plt.plot(inv_y, color = 'red', label = 'Real data')\n",
    "plt.plot(inv_yhat, color = 'blue', label = 'Predicted data')\n",
    "plt.title('Prediction')\n",
    "plt.legend()\n",
    "plt.show()"
   ]
  },
  {
   "cell_type": "code",
   "execution_count": 38,
   "metadata": {},
   "outputs": [
    {
     "data": {
      "text/plain": [
       "6.344926400200121"
      ]
     },
     "execution_count": 38,
     "metadata": {},
     "output_type": "execute_result"
    }
   ],
   "source": [
    "from sklearn.metrics import mean_absolute_error\n",
    "mean_absolute_error(inv_y,inv_yhat)"
   ]
  },
  {
   "cell_type": "code",
   "execution_count": 39,
   "metadata": {},
   "outputs": [],
   "source": [
    "import numpy as np\n",
    "\n",
    "def mean_absolute_percentage_error(y_true, y_pred): \n",
    "    y_true, y_pred = np.array(y_true), np.array(y_pred)\n",
    "    return np.mean(np.abs((y_true - y_pred) / y_true)) * 100"
   ]
  },
  {
   "cell_type": "code",
   "execution_count": 40,
   "metadata": {},
   "outputs": [
    {
     "data": {
      "text/plain": [
       "27.035009163449097"
      ]
     },
     "execution_count": 40,
     "metadata": {},
     "output_type": "execute_result"
    }
   ],
   "source": [
    "mean_absolute_percentage_error(inv_y,inv_yhat)"
   ]
  },
  {
   "cell_type": "code",
   "execution_count": null,
   "metadata": {},
   "outputs": [],
   "source": [
    "inv_yhat"
   ]
  }
 ],
 "metadata": {
  "kernelspec": {
   "display_name": "Python 3",
   "language": "python",
   "name": "python3"
  },
  "language_info": {
   "codemirror_mode": {
    "name": "ipython",
    "version": 3
   },
   "file_extension": ".py",
   "mimetype": "text/x-python",
   "name": "python",
   "nbconvert_exporter": "python",
   "pygments_lexer": "ipython3",
   "version": "3.7.6"
  }
 },
 "nbformat": 4,
 "nbformat_minor": 2
}
