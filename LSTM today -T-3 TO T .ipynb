{
 "cells": [
  {
   "cell_type": "code",
   "execution_count": 1,
   "metadata": {},
   "outputs": [],
   "source": [
    "from sklearn.tree import DecisionTreeClassifier, export_graphviz\n",
    "import pandas as pd\n",
    "import numpy as np\n",
    "from time import time\n",
    "from sklearn.linear_model import LinearRegression\n",
    "from sklearn.linear_model import SGDRegressor\n",
    "from sklearn.preprocessing import StandardScaler\n",
    "import matplotlib.pyplot as plt\n",
    "\n",
    "from sklearn.model_selection import cross_validate\n",
    "from sklearn.pipeline import Pipeline\n",
    "from sklearn.metrics import roc_auc_score , classification_report, mean_squared_error, r2_score\n",
    "from sklearn.metrics import precision_score, recall_score, accuracy_score, classification_report\n",
    "from sklearn.model_selection import learning_curve, GridSearchCV\n",
    "from sklearn.pipeline import Pipeline\n",
    "from sklearn.feature_selection import *\n",
    "from sklearn import metrics\n",
    "from sklearn.model_selection import train_test_split\n",
    "from numpy.random import seed\n",
    "seed(42)\n",
    "import tensorflow\n",
    "tensorflow.random.set_seed(42)"
   ]
  },
  {
   "cell_type": "code",
   "execution_count": 2,
   "metadata": {},
   "outputs": [],
   "source": [
    "\n",
    "# Let's first load the data and take a look at what we have.\n",
    "df = pd.read_csv('heathrow_final.csv')"
   ]
  },
  {
   "cell_type": "code",
   "execution_count": 3,
   "metadata": {},
   "outputs": [],
   "source": [
    "df=df.dropna()"
   ]
  },
  {
   "cell_type": "code",
   "execution_count": 4,
   "metadata": {},
   "outputs": [],
   "source": [
    "df.drop(['Date'], \n",
    "               axis=1,\n",
    "              inplace=True)\n"
   ]
  },
  {
   "cell_type": "code",
   "execution_count": 5,
   "metadata": {},
   "outputs": [
    {
     "data": {
      "text/html": [
       "<div>\n",
       "<style scoped>\n",
       "    .dataframe tbody tr th:only-of-type {\n",
       "        vertical-align: middle;\n",
       "    }\n",
       "\n",
       "    .dataframe tbody tr th {\n",
       "        vertical-align: top;\n",
       "    }\n",
       "\n",
       "    .dataframe thead th {\n",
       "        text-align: right;\n",
       "    }\n",
       "</style>\n",
       "<table border=\"1\" class=\"dataframe\">\n",
       "  <thead>\n",
       "    <tr style=\"text-align: right;\">\n",
       "      <th></th>\n",
       "      <th>Nox_tropo</th>\n",
       "      <th>Nox_ground</th>\n",
       "      <th>tavg</th>\n",
       "      <th>tmin</th>\n",
       "      <th>tmax</th>\n",
       "      <th>prcp</th>\n",
       "      <th>wdir</th>\n",
       "      <th>wspd</th>\n",
       "      <th>pres</th>\n",
       "      <th>Hum</th>\n",
       "      <th>NO</th>\n",
       "      <th>NO2</th>\n",
       "      <th>PM10</th>\n",
       "    </tr>\n",
       "  </thead>\n",
       "  <tbody>\n",
       "    <tr>\n",
       "      <th>count</th>\n",
       "      <td>577.000000</td>\n",
       "      <td>577.000000</td>\n",
       "      <td>577.000000</td>\n",
       "      <td>577.000000</td>\n",
       "      <td>577.000000</td>\n",
       "      <td>577.000000</td>\n",
       "      <td>577.000000</td>\n",
       "      <td>577.000000</td>\n",
       "      <td>577.000000</td>\n",
       "      <td>577.000000</td>\n",
       "      <td>577.000000</td>\n",
       "      <td>577.000000</td>\n",
       "      <td>577.000000</td>\n",
       "    </tr>\n",
       "    <tr>\n",
       "      <th>mean</th>\n",
       "      <td>154.680364</td>\n",
       "      <td>87.066482</td>\n",
       "      <td>11.984229</td>\n",
       "      <td>8.150780</td>\n",
       "      <td>16.022357</td>\n",
       "      <td>1.811265</td>\n",
       "      <td>3.183709</td>\n",
       "      <td>15.112652</td>\n",
       "      <td>1015.381282</td>\n",
       "      <td>75.034731</td>\n",
       "      <td>31.754870</td>\n",
       "      <td>38.469723</td>\n",
       "      <td>12.233464</td>\n",
       "    </tr>\n",
       "    <tr>\n",
       "      <th>std</th>\n",
       "      <td>84.033426</td>\n",
       "      <td>52.782369</td>\n",
       "      <td>5.632607</td>\n",
       "      <td>5.192215</td>\n",
       "      <td>6.804770</td>\n",
       "      <td>3.721334</td>\n",
       "      <td>0.831797</td>\n",
       "      <td>6.597982</td>\n",
       "      <td>11.310409</td>\n",
       "      <td>11.375091</td>\n",
       "      <td>26.124033</td>\n",
       "      <td>14.999325</td>\n",
       "      <td>7.812107</td>\n",
       "    </tr>\n",
       "    <tr>\n",
       "      <th>min</th>\n",
       "      <td>2.940000</td>\n",
       "      <td>7.340000</td>\n",
       "      <td>-0.300000</td>\n",
       "      <td>-5.200000</td>\n",
       "      <td>2.100000</td>\n",
       "      <td>0.000000</td>\n",
       "      <td>1.000000</td>\n",
       "      <td>3.500000</td>\n",
       "      <td>977.500000</td>\n",
       "      <td>44.170000</td>\n",
       "      <td>0.910000</td>\n",
       "      <td>4.390000</td>\n",
       "      <td>1.233333</td>\n",
       "    </tr>\n",
       "    <tr>\n",
       "      <th>25%</th>\n",
       "      <td>97.950000</td>\n",
       "      <td>53.770000</td>\n",
       "      <td>7.600000</td>\n",
       "      <td>4.300000</td>\n",
       "      <td>10.600000</td>\n",
       "      <td>0.000000</td>\n",
       "      <td>3.000000</td>\n",
       "      <td>10.100000</td>\n",
       "      <td>1008.700000</td>\n",
       "      <td>66.040000</td>\n",
       "      <td>15.670000</td>\n",
       "      <td>28.660000</td>\n",
       "      <td>7.233333</td>\n",
       "    </tr>\n",
       "    <tr>\n",
       "      <th>50%</th>\n",
       "      <td>136.240000</td>\n",
       "      <td>76.800000</td>\n",
       "      <td>11.000000</td>\n",
       "      <td>7.600000</td>\n",
       "      <td>14.600000</td>\n",
       "      <td>0.000000</td>\n",
       "      <td>3.000000</td>\n",
       "      <td>13.900000</td>\n",
       "      <td>1016.000000</td>\n",
       "      <td>76.670000</td>\n",
       "      <td>26.280000</td>\n",
       "      <td>36.910000</td>\n",
       "      <td>9.820833</td>\n",
       "    </tr>\n",
       "    <tr>\n",
       "      <th>75%</th>\n",
       "      <td>190.090000</td>\n",
       "      <td>107.330000</td>\n",
       "      <td>16.700000</td>\n",
       "      <td>12.300000</td>\n",
       "      <td>21.700000</td>\n",
       "      <td>1.800000</td>\n",
       "      <td>4.000000</td>\n",
       "      <td>19.000000</td>\n",
       "      <td>1022.900000</td>\n",
       "      <td>84.000000</td>\n",
       "      <td>39.530000</td>\n",
       "      <td>47.760000</td>\n",
       "      <td>14.404167</td>\n",
       "    </tr>\n",
       "    <tr>\n",
       "      <th>max</th>\n",
       "      <td>643.550000</td>\n",
       "      <td>373.490000</td>\n",
       "      <td>28.600000</td>\n",
       "      <td>20.000000</td>\n",
       "      <td>37.200000</td>\n",
       "      <td>34.000000</td>\n",
       "      <td>4.000000</td>\n",
       "      <td>39.200000</td>\n",
       "      <td>1047.700000</td>\n",
       "      <td>98.080000</td>\n",
       "      <td>187.440000</td>\n",
       "      <td>98.320000</td>\n",
       "      <td>57.200000</td>\n",
       "    </tr>\n",
       "  </tbody>\n",
       "</table>\n",
       "</div>"
      ],
      "text/plain": [
       "        Nox_tropo  Nox_ground        tavg        tmin        tmax        prcp  \\\n",
       "count  577.000000  577.000000  577.000000  577.000000  577.000000  577.000000   \n",
       "mean   154.680364   87.066482   11.984229    8.150780   16.022357    1.811265   \n",
       "std     84.033426   52.782369    5.632607    5.192215    6.804770    3.721334   \n",
       "min      2.940000    7.340000   -0.300000   -5.200000    2.100000    0.000000   \n",
       "25%     97.950000   53.770000    7.600000    4.300000   10.600000    0.000000   \n",
       "50%    136.240000   76.800000   11.000000    7.600000   14.600000    0.000000   \n",
       "75%    190.090000  107.330000   16.700000   12.300000   21.700000    1.800000   \n",
       "max    643.550000  373.490000   28.600000   20.000000   37.200000   34.000000   \n",
       "\n",
       "             wdir        wspd         pres         Hum          NO  \\\n",
       "count  577.000000  577.000000   577.000000  577.000000  577.000000   \n",
       "mean     3.183709   15.112652  1015.381282   75.034731   31.754870   \n",
       "std      0.831797    6.597982    11.310409   11.375091   26.124033   \n",
       "min      1.000000    3.500000   977.500000   44.170000    0.910000   \n",
       "25%      3.000000   10.100000  1008.700000   66.040000   15.670000   \n",
       "50%      3.000000   13.900000  1016.000000   76.670000   26.280000   \n",
       "75%      4.000000   19.000000  1022.900000   84.000000   39.530000   \n",
       "max      4.000000   39.200000  1047.700000   98.080000  187.440000   \n",
       "\n",
       "              NO2        PM10  \n",
       "count  577.000000  577.000000  \n",
       "mean    38.469723   12.233464  \n",
       "std     14.999325    7.812107  \n",
       "min      4.390000    1.233333  \n",
       "25%     28.660000    7.233333  \n",
       "50%     36.910000    9.820833  \n",
       "75%     47.760000   14.404167  \n",
       "max     98.320000   57.200000  "
      ]
     },
     "execution_count": 5,
     "metadata": {},
     "output_type": "execute_result"
    }
   ],
   "source": [
    "df.describe()"
   ]
  },
  {
   "cell_type": "code",
   "execution_count": 6,
   "metadata": {},
   "outputs": [],
   "source": [
    "X = df.drop(['Nox_tropo'], axis=1).values\n",
    "y = df['Nox_tropo'].values"
   ]
  },
  {
   "cell_type": "code",
   "execution_count": 7,
   "metadata": {},
   "outputs": [],
   "source": [
    "from numpy import concatenate\n",
    "from matplotlib import pyplot\n",
    "from pandas import read_csv\n",
    "from pandas import DataFrame\n",
    "from pandas import concat\n",
    "from sklearn.preprocessing import MinMaxScaler\n",
    "from sklearn.preprocessing import LabelEncoder\n",
    "from sklearn.metrics import mean_squared_error\n",
    "from tensorflow.keras.models import Sequential\n",
    "from tensorflow.keras.layers import Dense\n",
    "from tensorflow.keras.layers import LSTM"
   ]
  },
  {
   "cell_type": "code",
   "execution_count": 8,
   "metadata": {},
   "outputs": [],
   "source": [
    "\n",
    " \n",
    "# convert series to supervised learning\n",
    "def series_to_supervised(data, n_in=1, n_out=1, dropnan=True):\n",
    "\tn_vars = 1 if type(data) is list else data.shape[1]\n",
    "\tdf = DataFrame(data)\n",
    "\tcols, names = list(), list()\n",
    "\t# input sequence (t-n, ... t-1)\n",
    "\tfor i in range(n_in, 0, -1):\n",
    "\t\tcols.append(df.shift(i))\n",
    "\t\tnames += [('var%d(t-%d)' % (j+1, i)) for j in range(n_vars)]\n",
    "\t# forecast sequence (t, t+1, ... t+n)\n",
    "\tfor i in range(0, n_out):\n",
    "\t\tcols.append(df.shift(-i))\n",
    "\t\tif i == 0:\n",
    "\t\t\tnames += [('var%d(t)' % (j+1)) for j in range(n_vars)]\n",
    "\t\telse:\n",
    "\t\t\tnames += [('var%d(t+%d)' % (j+1, i)) for j in range(n_vars)]\n",
    "\t# put it all together\n",
    "\tagg = concat(cols, axis=1)\n",
    "\tagg.columns = names\n",
    "\t# drop rows with NaN values\n",
    "\tif dropnan:\n",
    "\t\tagg.dropna(inplace=True)\n",
    "\treturn agg"
   ]
  },
  {
   "cell_type": "code",
   "execution_count": 9,
   "metadata": {},
   "outputs": [],
   "source": [
    "dataset = df\n",
    "values = dataset.values"
   ]
  },
  {
   "cell_type": "code",
   "execution_count": 10,
   "metadata": {},
   "outputs": [
    {
     "name": "stdout",
     "output_type": "stream",
     "text": [
      "(574, 52)\n"
     ]
    }
   ],
   "source": [
    "\n",
    "# normalize features\n",
    "scaler = MinMaxScaler(feature_range=(0, 1))\n",
    "scaled = scaler.fit_transform(values)\n",
    "# specify the number of lag hours\n",
    "n_hours = 3\n",
    "n_features = 13\n",
    "# frame as supervised learning\n",
    "reframed = series_to_supervised(scaled, n_hours, 1)\n",
    "print(reframed.shape)\n",
    "# drop columns we don't want to predict\n",
    "reframed.drop(reframed.columns[[-1,-2,-3,-4,-5,-6,-7,-8,-9,-10,-11,-12,]], axis=1, inplace=True)\n",
    "# print(reframed.head())"
   ]
  },
  {
   "cell_type": "code",
   "execution_count": 11,
   "metadata": {},
   "outputs": [
    {
     "data": {
      "text/plain": [
       "Index(['var1(t-3)', 'var2(t-3)', 'var3(t-3)', 'var4(t-3)', 'var5(t-3)',\n",
       "       'var6(t-3)', 'var7(t-3)', 'var8(t-3)', 'var9(t-3)', 'var10(t-3)',\n",
       "       'var11(t-3)', 'var12(t-3)', 'var13(t-3)', 'var1(t-2)', 'var2(t-2)',\n",
       "       'var3(t-2)', 'var4(t-2)', 'var5(t-2)', 'var6(t-2)', 'var7(t-2)',\n",
       "       'var8(t-2)', 'var9(t-2)', 'var10(t-2)', 'var11(t-2)', 'var12(t-2)',\n",
       "       'var13(t-2)', 'var1(t-1)', 'var2(t-1)', 'var3(t-1)', 'var4(t-1)',\n",
       "       'var5(t-1)', 'var6(t-1)', 'var7(t-1)', 'var8(t-1)', 'var9(t-1)',\n",
       "       'var10(t-1)', 'var11(t-1)', 'var12(t-1)', 'var13(t-1)', 'var1(t)'],\n",
       "      dtype='object')"
      ]
     },
     "execution_count": 11,
     "metadata": {},
     "output_type": "execute_result"
    }
   ],
   "source": [
    "reframed.columns"
   ]
  },
  {
   "cell_type": "code",
   "execution_count": 12,
   "metadata": {},
   "outputs": [
    {
     "data": {
      "text/plain": [
       "574"
      ]
     },
     "execution_count": 12,
     "metadata": {},
     "output_type": "execute_result"
    }
   ],
   "source": [
    "len(reframed)"
   ]
  },
  {
   "cell_type": "code",
   "execution_count": 13,
   "metadata": {},
   "outputs": [
    {
     "data": {
      "text/plain": [
       "459.20000000000005"
      ]
     },
     "execution_count": 13,
     "metadata": {},
     "output_type": "execute_result"
    }
   ],
   "source": [
    "574*0.8"
   ]
  },
  {
   "cell_type": "code",
   "execution_count": 14,
   "metadata": {},
   "outputs": [
    {
     "name": "stdout",
     "output_type": "stream",
     "text": [
      "(459, 39) 459 (459,)\n",
      "(459, 3, 13) (459,) (115, 3, 13) (115,)\n"
     ]
    }
   ],
   "source": [
    "\n",
    "# split into train and test sets\n",
    "values = reframed.values\n",
    "\n",
    "#80% training data\n",
    "n_train_hours = 459\n",
    "train = values[:n_train_hours]\n",
    "test = values[n_train_hours:]\n",
    "\n",
    "# split into input and outputs\n",
    "n_obs = n_hours * n_features\n",
    "train_X, train_y = train[:, :n_obs], train[:, -n_features]\n",
    "test_X, test_y = test[:, :n_obs], test[:, -n_features]\n",
    "print(train_X.shape, len(train_X), train_y.shape)\n",
    "# reshape input to be 3D [samples, timesteps, features]\n",
    "train_X = train_X.reshape((train_X.shape[0], n_hours, n_features))\n",
    "test_X = test_X.reshape((test_X.shape[0], n_hours, n_features))\n",
    "print(train_X.shape, train_y.shape, test_X.shape, test_y.shape)\n",
    "\n",
    "# train = data.values[:459]\n",
    "# test = data.values[459:]\n",
    "\n",
    "# # Separate input and output\n",
    "# train_X, train_y = train[:, :-1], train[:, -1]\n",
    "# test_X, test_y = test[:, :-1], test[:, -1]\n",
    "\n",
    "# # Reshape input to be 3D [samples, timesteps, features]\n",
    "# train_X = train_X.reshape((train_X.shape[0], 1, train_X.shape[1]))\n",
    "# test_X = test_X.reshape((test_X.shape[0], 1, test_X.shape[1]))\n",
    "\n",
    "# # Print all shapes\n",
    "# train_X.shape, train_y.shape, test_X.shape, test_y.shape"
   ]
  },
  {
   "cell_type": "code",
   "execution_count": 15,
   "metadata": {},
   "outputs": [
    {
     "data": {
      "text/plain": [
       "(459, 13)"
      ]
     },
     "execution_count": 15,
     "metadata": {},
     "output_type": "execute_result"
    }
   ],
   "source": [
    "train_X.shape[0], train_X.shape[2]"
   ]
  },
  {
   "cell_type": "code",
   "execution_count": 16,
   "metadata": {},
   "outputs": [
    {
     "name": "stdout",
     "output_type": "stream",
     "text": [
      "Epoch 1/50\n",
      "153/153 - 3s - loss: 0.0140 - val_loss: 0.0248\n",
      "Epoch 2/50\n",
      "153/153 - 1s - loss: 0.0098 - val_loss: 0.0130\n",
      "Epoch 3/50\n",
      "153/153 - 0s - loss: 0.0069 - val_loss: 0.0097\n",
      "Epoch 4/50\n",
      "153/153 - 0s - loss: 0.0049 - val_loss: 0.0065\n",
      "Epoch 5/50\n",
      "153/153 - 0s - loss: 0.0029 - val_loss: 0.0061\n",
      "Epoch 6/50\n",
      "153/153 - 0s - loss: 0.0015 - val_loss: 0.0057\n",
      "Epoch 7/50\n",
      "153/153 - 0s - loss: 0.0010 - val_loss: 0.0051\n",
      "Epoch 8/50\n",
      "153/153 - 0s - loss: 8.0470e-04 - val_loss: 0.0044\n",
      "Epoch 9/50\n",
      "153/153 - 0s - loss: 6.6757e-04 - val_loss: 0.0036\n",
      "Epoch 10/50\n",
      "153/153 - 0s - loss: 5.6421e-04 - val_loss: 0.0031\n",
      "Epoch 11/50\n",
      "153/153 - 0s - loss: 4.7878e-04 - val_loss: 0.0029\n",
      "Epoch 12/50\n",
      "153/153 - 0s - loss: 4.3003e-04 - val_loss: 0.0026\n",
      "Epoch 13/50\n",
      "153/153 - 0s - loss: 3.9307e-04 - val_loss: 0.0025\n",
      "Epoch 14/50\n",
      "153/153 - 0s - loss: 3.5760e-04 - val_loss: 0.0023\n",
      "Epoch 15/50\n",
      "153/153 - 0s - loss: 3.3192e-04 - val_loss: 0.0023\n",
      "Epoch 16/50\n",
      "153/153 - 0s - loss: 3.0873e-04 - val_loss: 0.0022\n",
      "Epoch 17/50\n",
      "153/153 - 0s - loss: 2.8817e-04 - val_loss: 0.0022\n",
      "Epoch 18/50\n",
      "153/153 - 0s - loss: 2.7804e-04 - val_loss: 0.0021\n",
      "Epoch 19/50\n",
      "153/153 - 0s - loss: 2.6362e-04 - val_loss: 0.0020\n",
      "Epoch 20/50\n",
      "153/153 - 0s - loss: 2.5200e-04 - val_loss: 0.0021\n",
      "Epoch 21/50\n",
      "153/153 - 0s - loss: 2.3262e-04 - val_loss: 0.0021\n",
      "Epoch 22/50\n",
      "153/153 - 0s - loss: 2.2162e-04 - val_loss: 0.0019\n",
      "Epoch 23/50\n",
      "153/153 - 0s - loss: 2.0684e-04 - val_loss: 0.0017\n",
      "Epoch 24/50\n",
      "153/153 - 0s - loss: 1.9628e-04 - val_loss: 0.0016\n",
      "Epoch 25/50\n",
      "153/153 - 0s - loss: 1.8647e-04 - val_loss: 0.0015\n",
      "Epoch 26/50\n",
      "153/153 - 1s - loss: 1.8152e-04 - val_loss: 0.0014\n",
      "Epoch 27/50\n",
      "153/153 - 0s - loss: 1.7171e-04 - val_loss: 0.0013\n",
      "Epoch 28/50\n",
      "153/153 - 1s - loss: 1.7749e-04 - val_loss: 0.0011\n",
      "Epoch 29/50\n",
      "153/153 - 0s - loss: 1.7004e-04 - val_loss: 0.0011\n",
      "Epoch 30/50\n",
      "153/153 - 0s - loss: 1.7047e-04 - val_loss: 0.0011\n",
      "Epoch 31/50\n",
      "153/153 - 0s - loss: 1.8025e-04 - val_loss: 0.0011\n",
      "Epoch 32/50\n",
      "153/153 - 0s - loss: 1.6482e-04 - val_loss: 8.4471e-04\n",
      "Epoch 33/50\n",
      "153/153 - 0s - loss: 1.7588e-04 - val_loss: 9.2678e-04\n",
      "Epoch 34/50\n",
      "153/153 - 1s - loss: 2.1668e-04 - val_loss: 0.0011\n",
      "Epoch 35/50\n",
      "153/153 - 1s - loss: 2.2438e-04 - val_loss: 9.7877e-04\n",
      "Epoch 36/50\n",
      "153/153 - 0s - loss: 1.9065e-04 - val_loss: 0.0011\n",
      "Epoch 37/50\n",
      "153/153 - 0s - loss: 1.9180e-04 - val_loss: 0.0011\n",
      "Epoch 38/50\n",
      "153/153 - 1s - loss: 1.8676e-04 - val_loss: 0.0013\n",
      "Epoch 39/50\n",
      "153/153 - 1s - loss: 1.7994e-04 - val_loss: 0.0015\n",
      "Epoch 40/50\n",
      "153/153 - 1s - loss: 1.6435e-04 - val_loss: 0.0015\n",
      "Epoch 41/50\n",
      "153/153 - 0s - loss: 1.4296e-04 - val_loss: 0.0017\n",
      "Epoch 42/50\n",
      "153/153 - 0s - loss: 1.3912e-04 - val_loss: 0.0017\n",
      "Epoch 43/50\n",
      "153/153 - 1s - loss: 1.2589e-04 - val_loss: 0.0017\n",
      "Epoch 44/50\n",
      "153/153 - 0s - loss: 1.3100e-04 - val_loss: 0.0016\n",
      "Epoch 45/50\n",
      "153/153 - 1s - loss: 1.4344e-04 - val_loss: 0.0016\n",
      "Epoch 46/50\n",
      "153/153 - 0s - loss: 1.4248e-04 - val_loss: 0.0016\n",
      "Epoch 47/50\n",
      "153/153 - 0s - loss: 1.4826e-04 - val_loss: 0.0017\n",
      "Epoch 48/50\n",
      "153/153 - 1s - loss: 1.3689e-04 - val_loss: 0.0018\n",
      "Epoch 49/50\n",
      "153/153 - 0s - loss: 1.3348e-04 - val_loss: 0.0019\n",
      "Epoch 50/50\n",
      "153/153 - 0s - loss: 1.2083e-04 - val_loss: 0.0019\n"
     ]
    },
    {
     "data": {
      "image/png": "[encoded data removed]",
      "text/plain": [
       "<Figure size 432x288 with 1 Axes>"
      ]
     },
     "metadata": {
      "needs_background": "light"
     },
     "output_type": "display_data"
    }
   ],
   "source": [
    "\n",
    "model = Sequential()\n",
    "model = Sequential()\n",
    "model.add(LSTM(13, input_shape=(train_X.shape[1], train_X.shape[2]),activation='relu'))\n",
    "model.add(Dense(38, activation='relu'))\n",
    "model.add(Dense(1))\n",
    "model.compile(loss='mse', optimizer='adam')\n",
    "# fit network\n",
    "history = model.fit(train_X, train_y, epochs=50, batch_size=3, validation_data=(test_X, test_y), verbose=2, shuffle=False)\n",
    "# plot history\n",
    "pyplot.plot(history.history['loss'], label='train')\n",
    "pyplot.plot(history.history['val_loss'], label='test')\n",
    "pyplot.legend()\n",
    "pyplot.show()"
   ]
  },
  {
   "cell_type": "code",
   "execution_count": 17,
   "metadata": {},
   "outputs": [],
   "source": [
    "import math\n",
    "from math import sqrt"
   ]
  },
  {
   "cell_type": "code",
   "execution_count": 18,
   "metadata": {},
   "outputs": [],
   "source": [
    "# yhat = model.predict(test_X)"
   ]
  },
  {
   "cell_type": "code",
   "execution_count": 19,
   "metadata": {},
   "outputs": [
    {
     "name": "stdout",
     "output_type": "stream",
     "text": [
      "Test RMSE: 27.839\n"
     ]
    }
   ],
   "source": [
    "# make a prediction\n",
    "yhat = model.predict(test_X)\n",
    "test_X = test_X.reshape((test_X.shape[0], n_hours*n_features))\n",
    "# invert scaling for forecast\n",
    "inv_yhat = concatenate((yhat, test_X[:, -12:]), axis=1)\n",
    "inv_yhat = scaler.inverse_transform(inv_yhat)\n",
    "inv_yhat = inv_yhat[:,0]\n",
    "# invert scaling for actual\n",
    "test_y = test_y.reshape((len(test_y), 1))\n",
    "inv_y = concatenate((test_y, test_X[:, -12:]), axis=1)\n",
    "inv_y = scaler.inverse_transform(inv_y)\n",
    "inv_y = inv_y[:,0]\n",
    "# calculate RMSE\n",
    "rmse = sqrt(mean_squared_error(inv_y, inv_yhat))\n",
    "print('Test RMSE: %.3f' % rmse)"
   ]
  },
  {
   "cell_type": "code",
   "execution_count": 20,
   "metadata": {},
   "outputs": [],
   "source": [
    "# inv_yhat = inv_yhat"
   ]
  },
  {
   "cell_type": "raw",
   "metadata": {},
   "source": [
    "Test RMSE:   36.770"
   ]
  },
  {
   "cell_type": "code",
   "execution_count": 24,
   "metadata": {},
   "outputs": [
    {
     "data": {
      "image/png": "[encoded data removed]",
      "text/plain": [
       "<Figure size 432x288 with 1 Axes>"
      ]
     },
     "metadata": {
      "needs_background": "light"
     },
     "output_type": "display_data"
    }
   ],
   "source": [
    "plt.plot(inv_y, color = 'red', label = 'Real data')\n",
    "plt.plot(inv_yhat, color = 'blue', label = 'Predicted data')\n",
    "plt.title('Prediction')\n",
    "plt.legend()\n",
    "plt.show()"
   ]
  },
  {
   "cell_type": "markdown",
   "metadata": {},
   "source": [
    "<!-- 61-1 Test RMSE: Test RMSE: 63.163\n",
    "\n",
    "13-40-1 Test RMSE: 67.366\n",
    "\n",
    "13-100-1 Test RMSE: 65.965\n",
    "\n",
    "13- -->"
   ]
  },
  {
   "cell_type": "code",
   "execution_count": 23,
   "metadata": {},
   "outputs": [],
   "source": [
    "from sklearn.metrics import mean_absolute_error"
   ]
  },
  {
   "cell_type": "code",
   "execution_count": 30,
   "metadata": {},
   "outputs": [
    {
     "data": {
      "text/plain": [
       "17.326282072376035"
      ]
     },
     "execution_count": 30,
     "metadata": {},
     "output_type": "execute_result"
    }
   ],
   "source": [
    "mean_absolute_error(inv_y,inv_yhat)"
   ]
  },
  {
   "cell_type": "code",
   "execution_count": 31,
   "metadata": {},
   "outputs": [],
   "source": [
    "import numpy as np\n",
    "\n",
    "def mean_absolute_percentage_error(y_true, y_pred): \n",
    "    y_true, y_pred = np.array(y_true), np.array(y_pred)\n",
    "    return np.mean(np.abs((y_true - y_pred) / y_true)) * 100"
   ]
  },
  {
   "cell_type": "code",
   "execution_count": 32,
   "metadata": {},
   "outputs": [
    {
     "data": {
      "text/plain": [
       "102.13165927540724"
      ]
     },
     "execution_count": 32,
     "metadata": {},
     "output_type": "execute_result"
    }
   ],
   "source": [
    "mean_absolute_percentage_error(inv_y,inv_yhat)"
   ]
  }
 ],
 "metadata": {
  "kernelspec": {
   "display_name": "Python 3",
   "language": "python",
   "name": "python3"
  },
  "language_info": {
   "codemirror_mode": {
    "name": "ipython",
    "version": 3
   },
   "file_extension": ".py",
   "mimetype": "text/x-python",
   "name": "python",
   "nbconvert_exporter": "python",
   "pygments_lexer": "ipython3",
   "version": "3.7.6"
  }
 },
 "nbformat": 4,
 "nbformat_minor": 2
}
